{
 "cells": [
  {
   "cell_type": "markdown",
   "metadata": {},
   "source": [
    "Saya membuat set kosong untuk menampung komponen-komponen PC yang saya ingin beli."
   ]
  },
  {
   "cell_type": "code",
   "execution_count": 61,
   "metadata": {},
   "outputs": [],
   "source": [
    "komponen_pc = set()\n"
   ]
  },
  {
   "cell_type": "markdown",
   "metadata": {},
   "source": [
    "Saya menambahkan komponen-komponen tersebut ke dalam set menggunakan metode 'add()'."
   ]
  },
  {
   "cell_type": "code",
   "execution_count": 62,
   "metadata": {},
   "outputs": [],
   "source": [
    "komponen_pc.add('CPU')\n",
    "komponen_pc.add('Motherboard')\n",
    "komponen_pc.add('RAM DDR4 4GB')\n",
    "komponen_pc.add('Sound Card')\n",
    "komponen_pc.add('VGA Card 4 GB')\n"
   ]
  },
  {
   "cell_type": "markdown",
   "metadata": {},
   "source": [
    "Saya ingin melihat jumlah komponen yang sudah ditambahkan."
   ]
  },
  {
   "cell_type": "code",
   "execution_count": 63,
   "metadata": {},
   "outputs": [
    {
     "name": "stdout",
     "output_type": "stream",
     "text": [
      "Jumlah komponen PC: 5\n"
     ]
    }
   ],
   "source": [
    "print(\"Jumlah komponen PC:\", len(komponen_pc))\n"
   ]
  },
  {
   "cell_type": "markdown",
   "source": [
    "Saya ingin mengupdate komponen `RAM DDR4 4GB` ke `RAM DDR4 8GB` dan `RAM DDR4 16GB`"
   ],
   "metadata": {
    "collapsed": false
   }
  },
  {
   "cell_type": "code",
   "execution_count": 64,
   "metadata": {},
   "outputs": [],
   "source": [
    "komponen_pc.remove('RAM DDR4 4GB')\n",
    "komponen_pc.update({'RAM DDR4 8GB', 'RAM DDR4 16GB'})\n"
   ]
  },
  {
   "cell_type": "markdown",
   "metadata": {},
   "source": [
    "Saya ingin melihat jumlah komponen yang sudah ditambahkan."
   ]
  },
  {
   "cell_type": "code",
   "execution_count": 65,
   "metadata": {},
   "outputs": [
    {
     "name": "stdout",
     "output_type": "stream",
     "text": [
      "Jumlah komponen PC: 6\n"
     ]
    }
   ],
   "source": [
    "print(\"Jumlah komponen PC:\", len(komponen_pc))\n"
   ]
  },
  {
   "cell_type": "markdown",
   "metadata": {},
   "source": [
    "Saya ingin mengembalikan komponen 'Sound Card'"
   ]
  },
  {
   "cell_type": "code",
   "execution_count": 66,
   "metadata": {},
   "outputs": [],
   "source": [
    "komponen_pc.discard('Sound Card')\n"
   ]
  },
  {
   "cell_type": "code",
   "execution_count": 67,
   "metadata": {},
   "outputs": [
    {
     "name": "stdout",
     "output_type": "stream",
     "text": [
      "Jumlah komponen PC: 5\n"
     ]
    }
   ],
   "source": [
    "print(\"Jumlah komponen PC:\", len(komponen_pc))\n"
   ]
  },
  {
   "cell_type": "code",
   "execution_count": 68,
   "metadata": {},
   "outputs": [
    {
     "name": "stdout",
     "output_type": "stream",
     "text": [
      "Komponen yang diletakkan kembali secara acak: RAM DDR4 8GB\n"
     ]
    }
   ],
   "source": [
    "komponen_terhapus = komponen_pc.pop()\n",
    "print(\"Komponen yang diletakkan kembali secara acak:\", komponen_terhapus)\n"
   ]
  },
  {
   "cell_type": "code",
   "execution_count": 69,
   "metadata": {},
   "outputs": [
    {
     "name": "stdout",
     "output_type": "stream",
     "text": [
      "Jumlah komponen PC: 4\n"
     ]
    }
   ],
   "source": [
    "print(\"Jumlah komponen PC:\", len(komponen_pc))\n"
   ]
  },
  {
   "cell_type": "code",
   "execution_count": 70,
   "metadata": {},
   "outputs": [
    {
     "name": "stdout",
     "output_type": "stream",
     "text": [
      "Komponen PC:\n",
      "- Motherboard\n",
      "- RAM DDR4 16GB\n",
      "- CPU\n",
      "- VGA Card 4 GB\n"
     ]
    }
   ],
   "source": [
    "# Mencetak semua komponen dalam set\n",
    "print(\"Komponen PC:\")\n",
    "for komponen in komponen_pc:\n",
    "    print(\"-\", komponen)\n"
   ]
  },
  {
   "cell_type": "code",
   "execution_count": null,
   "metadata": {},
   "outputs": [],
   "source": []
  }
 ],
 "metadata": {
  "kernelspec": {
   "display_name": "Python 3",
   "language": "python",
   "name": "python3"
  },
  "language_info": {
   "codemirror_mode": {
    "name": "ipython",
    "version": 3
   },
   "file_extension": ".py",
   "mimetype": "text/x-python",
   "name": "python",
   "nbconvert_exporter": "python",
   "pygments_lexer": "ipython3",
   "version": "3.10.0"
  }
 },
 "nbformat": 4,
 "nbformat_minor": 2
}
